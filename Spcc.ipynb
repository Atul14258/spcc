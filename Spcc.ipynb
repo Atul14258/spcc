{
  "cells": [
    {
      "cell_type": "markdown",
      "metadata": {
        "id": "view-in-github",
        "colab_type": "text"
      },
      "source": [
        "<a href=\"https://colab.research.google.com/github/Atul14258/spcc/blob/main/Spcc.ipynb\" target=\"_parent\"><img src=\"https://colab.research.google.com/assets/colab-badge.svg\" alt=\"Open In Colab\"/></a>"
      ]
    },
    {
      "cell_type": "markdown",
      "source": [],
      "metadata": {
        "id": "Z5RmyZUtSr3l"
      }
    },
    {
      "cell_type": "markdown",
      "source": [],
      "metadata": {
        "id": "iWLuLmuoSr1M"
      }
    },
    {
      "cell_type": "markdown",
      "source": [],
      "metadata": {
        "id": "CL3Q7sGhSrzJ"
      }
    },
    {
      "cell_type": "markdown",
      "source": [],
      "metadata": {
        "id": "IV8lG0ORSrw1"
      }
    },
    {
      "cell_type": "markdown",
      "source": [],
      "metadata": {
        "id": "03c422LZSrub"
      }
    },
    {
      "cell_type": "markdown",
      "source": [],
      "metadata": {
        "id": "cHtM5pkMSrsM"
      }
    },
    {
      "cell_type": "markdown",
      "source": [],
      "metadata": {
        "id": "Ps6krPchT54M"
      }
    },
    {
      "cell_type": "markdown",
      "source": [],
      "metadata": {
        "id": "ZXqX-glQT51o"
      }
    },
    {
      "cell_type": "markdown",
      "source": [],
      "metadata": {
        "id": "BbNgrYlMT5yv"
      }
    },
    {
      "cell_type": "markdown",
      "source": [],
      "metadata": {
        "id": "mF61IchPSrmq"
      }
    },
    {
      "cell_type": "markdown",
      "source": [],
      "metadata": {
        "id": "bnJqyU_gSrkW"
      }
    },
    {
      "cell_type": "markdown",
      "source": [],
      "metadata": {
        "id": "yWPaEporSmzj"
      }
    },
    {
      "cell_type": "markdown",
      "source": [],
      "metadata": {
        "id": "P5TcI2MESmwO"
      }
    },
    {
      "cell_type": "markdown",
      "source": [],
      "metadata": {
        "id": "ZQNJ0EZTSmtA"
      }
    },
    {
      "cell_type": "markdown",
      "source": [],
      "metadata": {
        "id": "KUGfl28uSmp7"
      }
    },
    {
      "cell_type": "markdown",
      "source": [],
      "metadata": {
        "id": "8xfGdK67Smng"
      }
    },
    {
      "cell_type": "markdown",
      "source": [],
      "metadata": {
        "id": "3M3V5S8QSmks"
      }
    },
    {
      "cell_type": "markdown",
      "source": [],
      "metadata": {
        "id": "GJhAfj3vSmh9"
      }
    },
    {
      "cell_type": "markdown",
      "source": [],
      "metadata": {
        "id": "fOUwJNbRSmfd"
      }
    },
    {
      "cell_type": "markdown",
      "source": [],
      "metadata": {
        "id": "v8KRb_P1Smcr"
      }
    },
    {
      "cell_type": "markdown",
      "source": [],
      "metadata": {
        "id": "ke6UXY82SmXU"
      }
    },
    {
      "cell_type": "markdown",
      "source": [],
      "metadata": {
        "id": "_DfPoc5ESmVD"
      }
    },
    {
      "cell_type": "markdown",
      "metadata": {
        "id": "Sre8OQDmCRkT"
      },
      "source": [
        "# Pass-1 Assembler"
      ]
    },
    {
      "cell_type": "code",
      "execution_count": null,
      "metadata": {
        "colab": {
          "base_uri": "https://localhost:8080/",
          "height": 492
        },
        "id": "Tz8yfW9Fkhxg",
        "outputId": "2f7c5023-5e1f-4edb-beb8-5b25f50b4b7d"
      },
      "outputs": [
        {
          "output_type": "stream",
          "name": "stdout",
          "text": [
            "Enter instruction line (type 'done' when finished): MOV R\n",
            "Enter instruction line (type 'done' when finished): ADD R\n",
            "Enter instruction line (type 'done' when finished): SUB 30\n",
            "Enter instruction line (type 'done' when finished): STORE 1000\n",
            "Enter instruction line (type 'done' when finished): HALT\n",
            "Enter instruction line (type 'done' when finished): done\n",
            "+------------------+---------------+--------------+\n",
            "| Relative Address | Instruction   | Machine Code |\n",
            "+------------------+---------------+--------------+\n",
            "|0                 |MOV R          |1             |\n",
            "|1                 |ADD R          |8             |\n",
            "|2                 |SUB 30         |9, 30         |\n",
            "|4                 |STORE 1000     |15, 10, 00    |\n",
            "|7                 |HALT           |20            |\n",
            "+------------------+---------------+--------------+\n"
          ]
        },
        {
          "output_type": "execute_result",
          "data": {
            "text/plain": [
              "'\\nAssembler: Assembler accepts ALP as input & produces its machine language equivalent \\nalong with other information for the loader (like externally defined symbols).\\n\\nPass-1 Algorithm:\\n1.Initialize Location Counter LC = 0.\\n2.Read card pointed by LC.\\n3.Search POT for particular Pseudo-op –\\na)If DC or DS, then update LC to proper value, Goto step 5.\\nb)If EQU, then evaluate operand field & assign value to the label field, Go to step 7.\\nc)If USING or DROP, then Goto step 7.\\nd)If END, then assign storage for literals, rewind & reset copy.\\nGo to Pass-2.\\n4.Search MOT –\\na)Obtain instruction length L from MOT.\\nb)Process literals (if present) & enter them to LTSTO.\\n5.If instruction has label, then assign value of LC to symbol in STSTO.\\n6.Update LC i.e. LC = LC + L.\\n7.Write copy of card on file for use by Pass - 2.\\nGo to step 2\\n\\nFunctions of Pass-1 of the Assembler:\\n1.Determine length of machine instructions. (MOTGET1)\\n2.Keep track of Location Counter. (LC)\\n3.Remember values of symbols until Pass-2. (STSTO)\\n4.Process some pseudo-ops like DS, DC. (POTGET1)\\n5.Remember literals. (LITSTO)\\nIn brief, Pass-1 defines symbols & literals\\n'"
            ],
            "application/vnd.google.colaboratory.intrinsic+json": {
              "type": "string"
            }
          },
          "metadata": {},
          "execution_count": 2
        }
      ],
      "source": [
        "from sys import exit\n",
        "\n",
        "motOpCode = {\n",
        "    \"MOV\"   : 1,\n",
        "    \"A\"     : 2,\n",
        "    \"S\"     : 3,\n",
        "    \"M\"     : 4,\n",
        "    \"D\"     : 5,\n",
        "    \"AN\"    : 6,\n",
        "    \"O\"     : 7,\n",
        "    \"ADD\"   : 8,\n",
        "    \"SUB\"   : 9,\n",
        "    \"MUL\"   : 10,\n",
        "    \"DIV\"   : 11,\n",
        "    \"AND\"   : 12,\n",
        "    \"OR\"    : 13,\n",
        "    \"LOAD\"  : 14,\n",
        "    \"STORE\" : 15,\n",
        "    \"DCR\"   : 16,\n",
        "    \"INC\"   : 17,\n",
        "    \"JMP\"   : 18,\n",
        "    \"JNZ\"   : 19,\n",
        "    \"HALT\"  : 20\n",
        "}\n",
        "\n",
        "motSize = {\n",
        "    \"MOV\"   : 1,\n",
        "    \"A\"     : 1,\n",
        "    \"S\"     : 1,\n",
        "    \"M\"     : 1,\n",
        "    \"D\"     : 1,\n",
        "    \"AN\"    : 1,\n",
        "    \"O\"     : 1,\n",
        "    \"ADD\"   : 1,\n",
        "    \"SUB\"   : 2,\n",
        "    \"MUL\"   : 2,\n",
        "    \"DIV\"   : 2,\n",
        "    \"AND\"   : 2,\n",
        "    \"OR\"    : 2,\n",
        "    \"LOAD\"  : 3,\n",
        "    \"STORE\" : 3,\n",
        "    \"DCR\"   : 1,\n",
        "    \"INC\"   : 1,\n",
        "    \"JMP\"   : 3,\n",
        "    \"JNZ\"   : 3,\n",
        "    \"HALT\"  : 1\n",
        "}\n",
        "\n",
        "l = []\n",
        "relativeAddress = []\n",
        "machineCode = []\n",
        "RA = 0\n",
        "current = 0\n",
        "count = 0\n",
        "\n",
        "while True:\n",
        "    instructions = input(\"Enter instruction line (type 'done' when finished): \")\n",
        "    if instructions.lower() == 'done':\n",
        "        break\n",
        "    l.append(instructions)\n",
        "\n",
        "l = [x.upper() for x in l]\n",
        "\n",
        "for i in range(len(l)):\n",
        "    x = l[i]\n",
        "    if \" \" in x:\n",
        "        s1 = x.split(maxsplit=1)\n",
        "        a = s1[0]\n",
        "        if len(s1) > 1:\n",
        "            b = s1[1]\n",
        "        else:\n",
        "            b = \"\"\n",
        "\n",
        "        if a in motOpCode:\n",
        "            value = motOpCode.get(a)\n",
        "            size = motSize.get(a)\n",
        "            previous = size\n",
        "            RA += current\n",
        "            current = previous\n",
        "            relativeAddress.append(RA)\n",
        "            if b.isalpha():\n",
        "                machineCode.append(str(value))\n",
        "            else:\n",
        "                temp = list(b)\n",
        "                for i in range(len(temp)):\n",
        "                    if count == 2:\n",
        "                        temp.insert(i, ' ')\n",
        "                        count = 0\n",
        "                    else:\n",
        "                        count += 1\n",
        "                s = ''.join(temp)\n",
        "                machineCode.append(str(value) + \" \" + s)\n",
        "\n",
        "        else:\n",
        "            print(\"Instruction is not in Op Code Table.\")\n",
        "            exit(0)\n",
        "\n",
        "    else:\n",
        "        if x in motOpCode:\n",
        "            value = motOpCode.get(x)\n",
        "            size = motSize.get(x)\n",
        "            previous = size\n",
        "            RA += current\n",
        "            current = previous\n",
        "            relativeAddress.append(RA)\n",
        "            machineCode.append(value)\n",
        "        else:\n",
        "            print(\"Instruction is not in Op Code Table.\")\n",
        "            exit(0)\n",
        "\n",
        "print(\"+------------------+---------------+--------------+\")\n",
        "print(\"| Relative Address | Instruction   | Machine Code |\")\n",
        "print(\"+------------------+---------------+--------------+\")\n",
        "for i in range(len(l)):\n",
        "    if \" \" in str(machineCode[i]):\n",
        "        mc_bytes = machineCode[i].split()\n",
        "        machine_code_str = \", \".join(mc_bytes)\n",
        "    else:\n",
        "        machine_code_str = machineCode[i]\n",
        "\n",
        "    print(\"|{:<18}|{:<15}|{:<14}|\".format(relativeAddress[i], l[i], machine_code_str))\n",
        "print(\"+------------------+---------------+--------------+\")\n",
        "\n",
        "# Input -\n",
        "# Enter instruction line (type 'done' when finished): MOV R\n",
        "# Enter instruction line (type 'done' when finished): ADD R\n",
        "# Enter instruction line (type 'done' when finished): SUB 30\n",
        "# Enter instruction line (type 'done' when finished): STORE 1000\n",
        "# Enter instruction line (type 'done' when finished): HALT\n",
        "# Enter instruction line (type 'done' when finished): done\n",
        "\n",
        "\"\"\"\n",
        "Assembler: Assembler accepts ALP as input & produces its machine language equivalent\n",
        "along with other information for the loader (like externally defined symbols).\n",
        "\n",
        "Pass-1 Algorithm:\n",
        "1.Initialize Location Counter LC = 0.\n",
        "2.Read card pointed by LC.\n",
        "3.Search POT for particular Pseudo-op –\n",
        "a)If DC or DS, then update LC to proper value, Goto step 5.\n",
        "b)If EQU, then evaluate operand field & assign value to the label field, Go to step 7.\n",
        "c)If USING or DROP, then Goto step 7.\n",
        "d)If END, then assign storage for literals, rewind & reset copy.\n",
        "Go to Pass-2.\n",
        "4.Search MOT –\n",
        "a)Obtain instruction length L from MOT.\n",
        "b)Process literals (if present) & enter them to LTSTO.\n",
        "5.If instruction has label, then assign value of LC to symbol in STSTO.\n",
        "6.Update LC i.e. LC = LC + L.\n",
        "7.Write copy of card on file for use by Pass - 2.\n",
        "Go to step 2\n",
        "\n",
        "Functions of Pass-1 of the Assembler:\n",
        "1.Determine length of machine instructions. (MOTGET1)\n",
        "2.Keep track of Location Counter. (LC)\n",
        "3.Remember values of symbols until Pass-2. (STSTO)\n",
        "4.Process some pseudo-ops like DS, DC. (POTGET1)\n",
        "5.Remember literals. (LITSTO)\n",
        "In brief, Pass-1 defines symbols & literals\n",
        "\"\"\""
      ]
    },
    {
      "cell_type": "markdown",
      "source": [],
      "metadata": {
        "id": "mqyXFqxtQYky"
      }
    },
    {
      "cell_type": "markdown",
      "source": [],
      "metadata": {
        "id": "8JD9Dx9vTkHc"
      }
    },
    {
      "cell_type": "markdown",
      "source": [],
      "metadata": {
        "id": "z1z3Im1qTkEj"
      }
    },
    {
      "cell_type": "markdown",
      "source": [],
      "metadata": {
        "id": "gikC2bXOTmN8"
      }
    },
    {
      "cell_type": "markdown",
      "source": [],
      "metadata": {
        "id": "kjJimuMlTmwd"
      }
    },
    {
      "cell_type": "markdown",
      "source": [],
      "metadata": {
        "id": "Lyq2lCafT4JO"
      }
    },
    {
      "cell_type": "markdown",
      "source": [],
      "metadata": {
        "id": "2E5L3nQ5T4Gz"
      }
    },
    {
      "cell_type": "markdown",
      "source": [],
      "metadata": {
        "id": "dWOjSqRiT4Ek"
      }
    },
    {
      "cell_type": "markdown",
      "source": [],
      "metadata": {
        "id": "Co-T-X7mT4Cj"
      }
    },
    {
      "cell_type": "markdown",
      "source": [],
      "metadata": {
        "id": "iB5ePDncT3_1"
      }
    },
    {
      "cell_type": "markdown",
      "source": [],
      "metadata": {
        "id": "O_QGg_z0TnQL"
      }
    },
    {
      "cell_type": "markdown",
      "source": [],
      "metadata": {
        "id": "_skuQuwfTkBl"
      }
    },
    {
      "cell_type": "markdown",
      "source": [],
      "metadata": {
        "id": "R8U8zKOSTj96"
      }
    },
    {
      "cell_type": "markdown",
      "source": [],
      "metadata": {
        "id": "aLvY9h9uTj5F"
      }
    },
    {
      "cell_type": "markdown",
      "source": [],
      "metadata": {
        "id": "nLdTZ4J4Tjy1"
      }
    },
    {
      "cell_type": "markdown",
      "source": [],
      "metadata": {
        "id": "FfuVc8tBTjt-"
      }
    },
    {
      "cell_type": "markdown",
      "source": [],
      "metadata": {
        "id": "jJmUAdcFTjqO"
      }
    },
    {
      "cell_type": "markdown",
      "source": [],
      "metadata": {
        "id": "VvsDQ68UTjm9"
      }
    },
    {
      "cell_type": "markdown",
      "source": [],
      "metadata": {
        "id": "8Zg7_Ib6TjjU"
      }
    },
    {
      "cell_type": "markdown",
      "source": [],
      "metadata": {
        "id": "Q-Bv_Xp4Tjf-"
      }
    },
    {
      "cell_type": "markdown",
      "source": [],
      "metadata": {
        "id": "X78Af_4vTjcr"
      }
    },
    {
      "cell_type": "markdown",
      "source": [],
      "metadata": {
        "id": "FwTE6ZM4TjZM"
      }
    },
    {
      "cell_type": "markdown",
      "source": [],
      "metadata": {
        "id": "wU75PM9cTjV0"
      }
    },
    {
      "cell_type": "markdown",
      "source": [],
      "metadata": {
        "id": "uSs3clveTjRu"
      }
    },
    {
      "cell_type": "markdown",
      "source": [],
      "metadata": {
        "id": "4eAuXsrdTjNk"
      }
    },
    {
      "cell_type": "markdown",
      "source": [],
      "metadata": {
        "id": "wm54XQmTTjGr"
      }
    },
    {
      "cell_type": "markdown",
      "source": [],
      "metadata": {
        "id": "mXY_iVdoTjDU"
      }
    },
    {
      "cell_type": "markdown",
      "source": [],
      "metadata": {
        "id": "pm2BjDFqTi_8"
      }
    },
    {
      "cell_type": "markdown",
      "source": [],
      "metadata": {
        "id": "lv2QLTpoTi5N"
      }
    },
    {
      "cell_type": "markdown",
      "source": [],
      "metadata": {
        "id": "GYCTxjdiTiwk"
      }
    },
    {
      "cell_type": "markdown",
      "source": [],
      "metadata": {
        "id": "5-73R6vmTiob"
      }
    },
    {
      "cell_type": "markdown",
      "source": [],
      "metadata": {
        "id": "pBH70zT1Thj5"
      }
    },
    {
      "cell_type": "markdown",
      "source": [],
      "metadata": {
        "id": "YT7WRcxeThYM"
      }
    },
    {
      "cell_type": "markdown",
      "metadata": {
        "id": "KFCp4awVC3Ep"
      },
      "source": [
        "# Macro without argument"
      ]
    },
    {
      "cell_type": "code",
      "execution_count": null,
      "metadata": {
        "colab": {
          "base_uri": "https://localhost:8080/"
        },
        "id": "BUfkWKZVDLPc",
        "outputId": "818fbe17-1012-451a-8824-9bdd3aaf00c5"
      },
      "outputs": [
        {
          "name": "stdout",
          "output_type": "stream",
          "text": [
            "Enter the input source code (one line per instruction, type 'END' to finish):\n",
            "MOV R\n",
            "RAHUL\n",
            "DCR R\n",
            "AND R\n",
            "RAHUL\n",
            "MUL 88\n",
            "HALT\n",
            "END\n",
            "Enter the macro definition (one line per instruction, type 'END' to finish):\n",
            "MACRO\n",
            "RAHUL\n",
            "ADD 30\n",
            "SUB 25\n",
            "OR R\n",
            "MEND\n",
            "END\n",
            "\n",
            "Expanded Source Code:\n",
            "MOV R\n",
            "ADD 30\n",
            "SUB 25\n",
            "OR R\n",
            "DCR R\n",
            "AND R\n",
            "ADD 30\n",
            "SUB 25\n",
            "OR R\n",
            "MUL 88\n",
            "HALT\n",
            "\n",
            "\n",
            "Statistical Output\n",
            "Number of instructions in input source code (excluding Macro calls) = 5\n",
            "Number of Macro calls = 2\n",
            "Number of instructions defined in the Macro call = 3\n",
            "Total number of instructions in the expanded source code = 11\n"
          ]
        }
      ],
      "source": [
        "print(\"Enter the input source code (one line per instruction, type 'END' to finish):\")\n",
        "input_code = []\n",
        "while True:\n",
        "    line = input().strip()\n",
        "    if line.upper() == 'END':\n",
        "        break\n",
        "    input_code.append(line)\n",
        "\n",
        "print(\"Enter the macro definition (one line per instruction, type 'END' to finish):\")\n",
        "macro_definition = []\n",
        "while True:\n",
        "    line = input().strip().upper()\n",
        "    if line.upper() == 'END':\n",
        "        break\n",
        "    macro_definition.append(line)\n",
        "\n",
        "if 'MACRO' not in macro_definition:\n",
        "    print(\"Error: 'MACRO' keyword not found in the macro definition.\")\n",
        "else:\n",
        "    macro_start_index = macro_definition.index('MACRO')\n",
        "    macro_name = macro_definition[macro_start_index + 1]\n",
        "    macro_end_index = macro_definition.index('MEND')\n",
        "    macro_body = macro_definition[macro_start_index + 2:macro_end_index]\n",
        "\n",
        "    macro_count = 0\n",
        "    expanded_code = []\n",
        "    for instruction in input_code:\n",
        "        if instruction == macro_name:\n",
        "            expanded_code.extend(macro_body)\n",
        "            macro_count += 1\n",
        "        else:\n",
        "            expanded_code.append(instruction)\n",
        "\n",
        "    print(\"\\nExpanded Source Code:\")\n",
        "    for instruction in expanded_code:\n",
        "        print(instruction)\n",
        "\n",
        "    print(\"\\n\\nStatistical Output\")\n",
        "    print(\"Number of instructions in input source code (excluding Macro calls) =\", len(input_code) - macro_count)\n",
        "    print(\"Number of Macro calls =\", macro_count)\n",
        "    print(\"Number of instructions defined in the Macro call =\", len(macro_body))\n",
        "    print(\"Total number of instructions in the expanded source code =\", len(expanded_code))\n",
        "\n",
        "# Input -\n",
        "# Enter the input source code (one line per instruction, type 'END' to finish):\n",
        "# MOV R\n",
        "# RAHUL\n",
        "# DCR R\n",
        "# AND R\n",
        "# RAHUL\n",
        "# MUL 88\n",
        "# HALT\n",
        "# END\n",
        "# Enter the macro definition (one line per instruction, type 'END' to finish):\n",
        "# MACRO\n",
        "# RAHUL\n",
        "# ADD 30\n",
        "# SUB 25\n",
        "# OR R\n",
        "# MEND\n",
        "# END\n",
        "\n",
        "\"\"\"\n",
        "Macro: It is a single line abbreviation for the group of instructions.\n",
        "1)Macro is defined for the block of instructions at the beginning if the Assembly Language Program (ALP).\n",
        "2)Reduces the size of the ALP significantly and storage space.\n",
        "3)In source ALP code, each occurrence of that block of instructions is represented by its macro.\n",
        "4)Before the assembly process i.e. generating object code, the macro is expanded by the Macro Processor.\n",
        "5)Macro expansion is the process of replacing each macro call by its block of instructions.\n",
        "\n",
        "Need of Macros:\n",
        "Sometimes it is needed to repeat block of instructions many numbers of times in ALP.\n",
        "For example:\n",
        "a)Save or exchange set of registers.\n",
        "b)Series of arithmetic operations.\n",
        "Macro is defined for such block of instructions.\n",
        "\n",
        "Generalized format of the macro:\n",
        "MACRO\t\t; start of macro definition\n",
        "{macro name}\t; name of the macro\n",
        "------------------}\n",
        "------------------}\t; block of instructions\n",
        "------------------} \t(body/domain of the macro)\n",
        "MEND\t \t; end of macro definition\n",
        "\n",
        "\"\"\""
      ]
    },
    {
      "cell_type": "markdown",
      "source": [],
      "metadata": {
        "id": "27H9ViPnTru1"
      }
    },
    {
      "cell_type": "markdown",
      "source": [],
      "metadata": {
        "id": "4ETCYhfITrpa"
      }
    },
    {
      "cell_type": "markdown",
      "source": [],
      "metadata": {
        "id": "d52GEoyBTrmr"
      }
    },
    {
      "cell_type": "markdown",
      "source": [],
      "metadata": {
        "id": "6ConBk7ITraE"
      }
    },
    {
      "cell_type": "markdown",
      "source": [],
      "metadata": {
        "id": "KQjoxguWTrXa"
      }
    },
    {
      "cell_type": "markdown",
      "source": [],
      "metadata": {
        "id": "QVxBD2I1T2cy"
      }
    },
    {
      "cell_type": "markdown",
      "source": [],
      "metadata": {
        "id": "Xs9Q3ZsBT2ar"
      }
    },
    {
      "cell_type": "markdown",
      "source": [],
      "metadata": {
        "id": "KwM-Vrd8T2Ym"
      }
    },
    {
      "cell_type": "markdown",
      "source": [],
      "metadata": {
        "id": "BSys2FySTrUi"
      }
    },
    {
      "cell_type": "markdown",
      "source": [],
      "metadata": {
        "id": "XubWeqN1TrRr"
      }
    },
    {
      "cell_type": "markdown",
      "source": [],
      "metadata": {
        "id": "2VWLWmgoTrOy"
      }
    },
    {
      "cell_type": "markdown",
      "source": [],
      "metadata": {
        "id": "PxnuobB_TrL1"
      }
    },
    {
      "cell_type": "markdown",
      "source": [],
      "metadata": {
        "id": "rqUQp8zWTrI1"
      }
    },
    {
      "cell_type": "markdown",
      "source": [],
      "metadata": {
        "id": "qOmLRHBeTrF0"
      }
    },
    {
      "cell_type": "markdown",
      "source": [],
      "metadata": {
        "id": "BuajUnY0TrCt"
      }
    },
    {
      "cell_type": "markdown",
      "source": [],
      "metadata": {
        "id": "W6U9ouNLTq_l"
      }
    },
    {
      "cell_type": "markdown",
      "source": [],
      "metadata": {
        "id": "RG_nDsf6Tq8d"
      }
    },
    {
      "cell_type": "markdown",
      "source": [],
      "metadata": {
        "id": "hKhWfqN4Tq4k"
      }
    },
    {
      "cell_type": "markdown",
      "source": [],
      "metadata": {
        "id": "flSwy-iFTq1k"
      }
    },
    {
      "cell_type": "markdown",
      "source": [],
      "metadata": {
        "id": "rYDPqKc5TqyT"
      }
    },
    {
      "cell_type": "markdown",
      "source": [],
      "metadata": {
        "id": "smtCTUMETqva"
      }
    },
    {
      "cell_type": "markdown",
      "source": [],
      "metadata": {
        "id": "kYPv5DaaTqoj"
      }
    },
    {
      "cell_type": "markdown",
      "source": [],
      "metadata": {
        "id": "0i_54Ly_TtUM"
      }
    },
    {
      "cell_type": "markdown",
      "source": [],
      "metadata": {
        "id": "uIHeUzyyTtRC"
      }
    },
    {
      "cell_type": "markdown",
      "source": [],
      "metadata": {
        "id": "IyeX1qByTtOD"
      }
    },
    {
      "cell_type": "markdown",
      "source": [],
      "metadata": {
        "id": "2zdhbMygTql3"
      }
    },
    {
      "cell_type": "markdown",
      "metadata": {
        "id": "WPOPUWkSPidt"
      },
      "source": [
        "# Macro with one Argument"
      ]
    },
    {
      "cell_type": "code",
      "execution_count": null,
      "metadata": {
        "colab": {
          "base_uri": "https://localhost:8080/"
        },
        "id": "IoYT16k9PljD",
        "outputId": "d9213168-7f85-4708-9116-2b0014ca5bb1"
      },
      "outputs": [
        {
          "name": "stdout",
          "output_type": "stream",
          "text": [
            "Enter the input code line by line. Enter 'END' on a new line when finished.\n",
            "MOV R \n",
            "RAHUL 30\n",
            "DCR R\n",
            "AND R\n",
            "RAHUL 55\n",
            "MUL 88\n",
            "HALT\n",
            "END\n",
            "\n",
            "Enter the macro definition line by line. Enter 'END' on a new line when finished.\n",
            "MACRO\n",
            "RAHUL &ARG\n",
            "ADD &ARG\n",
            "SUB &ARG\n",
            "OR &ARG\n",
            "MEND\n",
            "END\n",
            "\n",
            "Evaluated Program:\n",
            "MOV R\n",
            "ADD 30\n",
            "SUB 30\n",
            "OR 30\n",
            "DCR R\n",
            "AND R\n",
            "ADD 55\n",
            "SUB 55\n",
            "OR 55\n",
            "MUL 88\n",
            "HALT\n",
            "\n",
            "Statistical Output:\n",
            "Number of instructions in input source code (excluding Macro calls) = 5\n",
            "Number of Macro calls = 2\n",
            "Number of instructions defined in the Macro call = 3\n",
            "Actual argument during Macro call 1 = 30\n",
            "Actual argument during Macro call 2 = 55\n",
            "Total number of instructions in the expanded source code = 11\n"
          ]
        }
      ],
      "source": [
        "def expand_macro(code, macro):\n",
        "    macro_lines = []\n",
        "    macro_name = ' '\n",
        "    code_lines = []\n",
        "    arg_list = []\n",
        "    macro_call_count = 0\n",
        "\n",
        "    for line in macro:\n",
        "        line = line.upper().strip()\n",
        "        if line == 'MACRO':\n",
        "            continue\n",
        "        elif line == 'MEND':\n",
        "            break\n",
        "        else:\n",
        "            macro_lines.append(line)\n",
        "    macro_name = macro_lines[0].split()[0]\n",
        "    macro_lines.pop(0)\n",
        "\n",
        "    def call_macro(arg):\n",
        "        return [line.replace('&ARG', arg) for line in macro_lines]\n",
        "\n",
        "    for line in code:\n",
        "        line = line.strip()\n",
        "        parts = line.split()\n",
        "        if parts[0].upper() == macro_name:\n",
        "\n",
        "            macro_call_count += 1\n",
        "            arg = parts[1]\n",
        "            arg_list.append(arg)\n",
        "            code_lines.extend(call_macro(arg))\n",
        "        else:\n",
        "            code_lines.append(line)\n",
        "\n",
        "    return code_lines, macro_call_count, arg_list, len(macro_lines)\n",
        "\n",
        "\n",
        "def main():\n",
        "\n",
        "    print(\"Enter the input code line by line. Enter 'END' on a new line when finished.\")\n",
        "    code_input = []\n",
        "    while True:\n",
        "        line = input().strip()\n",
        "        if line == 'END':\n",
        "            break\n",
        "        code_input.append(line)\n",
        "\n",
        "    print(\"\\nEnter the macro definition line by line. Enter 'END' on a new line when finished.\")\n",
        "    macro_input = []\n",
        "    while True:\n",
        "        line = input().strip()\n",
        "        if line == 'END':\n",
        "            break\n",
        "        macro_input.append(line)\n",
        "\n",
        "    expanded_code, macro_call_count, arg_list, macro_instruction_count = expand_macro(code_input, macro_input)\n",
        "\n",
        "    print(\"\\nEvaluated Program:\")\n",
        "    for line in expanded_code:\n",
        "        print(line)\n",
        "\n",
        "    print(\"\\nStatistical Output:\")\n",
        "    code_instruction_count = len(code_input) - macro_call_count\n",
        "    print(\"Number of instructions in input source code (excluding Macro calls) =\", code_instruction_count)\n",
        "    print(\"Number of Macro calls =\", macro_call_count)\n",
        "    print(\"Number of instructions defined in the Macro call =\", macro_instruction_count)\n",
        "    for i, arg in enumerate(arg_list):\n",
        "        print(f\"Actual argument during Macro call {i + 1} =\", arg)\n",
        "    print(\"Total number of instructions in the expanded source code =\", len(expanded_code))\n",
        "\n",
        "\n",
        "if __name__ == \"__main__\":\n",
        "    main()\n",
        "\n",
        "# Input -\n",
        "# Enter the input code line by line. Enter 'END' on a new line when finished.\n",
        "# MOV R\n",
        "# RAHUL 30\n",
        "# DCR R\n",
        "# AND R\n",
        "# RAHUL 55\n",
        "# MUL 88\n",
        "# HALT\n",
        "# END\n",
        "\n",
        "# Enter the macro definition line by line. Enter 'END' on a new line when finished.\n",
        "# MACRO\n",
        "# RAHUL &ARG\n",
        "# ADD &ARG\n",
        "# SUB &ARG\n",
        "# OR &ARG\n",
        "# MEND\n",
        "# END\n",
        "\n",
        "\"\"\"\n",
        "Macro: It is a single line abbreviation for the group of instructions.\n",
        "1)Macro is defined for the block of instructions at the beginning if the Assembly Language Program (ALP).\n",
        "2)Reduces the size of the ALP significantly and storage space.\n",
        "3)In source ALP code, each occurrence of that block of instructions is represented by its macro.\n",
        "4)Before the assembly process i.e. generating object code, the macro is expanded by the Macro Processor.\n",
        "5)Macro expansion is the process of replacing each macro call by its block of instructions.\n",
        "\n",
        "Need of Macros:\n",
        "Sometimes it is needed to repeat block of instructions many numbers of times in ALP.\n",
        "For example:\n",
        "a)Save or exchange set of registers.\n",
        "b)Series of arithmetic operations.\n",
        "Macro is defined for such block of instructions.\n",
        "\n",
        "Generalized format of the macro:\n",
        "MACRO\t\t; start of macro definition\n",
        "{macro name}\t; name of the macro\n",
        "------------------}\n",
        "------------------}\t; block of instructions\n",
        "------------------} \t(body/domain of the macro)\n",
        "MEND\t \t; end of macro definition\n",
        "\n",
        "\"\"\""
      ]
    },
    {
      "cell_type": "markdown",
      "source": [],
      "metadata": {
        "id": "vTNHoBo_TvCa"
      }
    },
    {
      "cell_type": "markdown",
      "source": [],
      "metadata": {
        "id": "onC88_vxTu-b"
      }
    },
    {
      "cell_type": "markdown",
      "source": [],
      "metadata": {
        "id": "WC6bP2gOTu7S"
      }
    },
    {
      "cell_type": "markdown",
      "source": [],
      "metadata": {
        "id": "xZJBN8PCTu4N"
      }
    },
    {
      "cell_type": "markdown",
      "source": [],
      "metadata": {
        "id": "5pF1wmooTu1K"
      }
    },
    {
      "cell_type": "markdown",
      "source": [],
      "metadata": {
        "id": "IsdouKawTuyS"
      }
    },
    {
      "cell_type": "markdown",
      "source": [],
      "metadata": {
        "id": "d87P3hQcTuvS"
      }
    },
    {
      "cell_type": "markdown",
      "source": [],
      "metadata": {
        "id": "IfgcGKFRTusS"
      }
    },
    {
      "cell_type": "markdown",
      "source": [],
      "metadata": {
        "id": "Wfm6I3pUTupi"
      }
    },
    {
      "cell_type": "markdown",
      "source": [],
      "metadata": {
        "id": "iqs6xmzaTumy"
      }
    },
    {
      "cell_type": "markdown",
      "source": [],
      "metadata": {
        "id": "Qo-BCA1GTuj6"
      }
    },
    {
      "cell_type": "markdown",
      "source": [],
      "metadata": {
        "id": "x-2GcKTlTy8T"
      }
    },
    {
      "cell_type": "markdown",
      "source": [],
      "metadata": {
        "id": "kPGUX1THTy5-"
      }
    },
    {
      "cell_type": "markdown",
      "source": [],
      "metadata": {
        "id": "VrytZaZ2Ty3k"
      }
    },
    {
      "cell_type": "markdown",
      "source": [],
      "metadata": {
        "id": "5s_9DtDfTy0w"
      }
    },
    {
      "cell_type": "markdown",
      "source": [],
      "metadata": {
        "id": "pgtNPKZsTx9E"
      }
    },
    {
      "cell_type": "markdown",
      "source": [],
      "metadata": {
        "id": "A3FRwxIWTx6T"
      }
    },
    {
      "cell_type": "markdown",
      "source": [],
      "metadata": {
        "id": "VZ2kVOMFTx3l"
      }
    },
    {
      "cell_type": "markdown",
      "source": [],
      "metadata": {
        "id": "xqKb_OmbTx0i"
      }
    },
    {
      "cell_type": "markdown",
      "source": [],
      "metadata": {
        "id": "JgHQBtNbTxxz"
      }
    },
    {
      "cell_type": "markdown",
      "source": [],
      "metadata": {
        "id": "wblsB6qDTxvD"
      }
    },
    {
      "cell_type": "markdown",
      "source": [],
      "metadata": {
        "id": "CDqEyjD_TxsZ"
      }
    },
    {
      "cell_type": "markdown",
      "source": [],
      "metadata": {
        "id": "n_TEOJ-wTxpc"
      }
    },
    {
      "cell_type": "markdown",
      "source": [],
      "metadata": {
        "id": "3X9UJqGPTuhO"
      }
    },
    {
      "cell_type": "markdown",
      "source": [],
      "metadata": {
        "id": "c1hkvK4MTueE"
      }
    },
    {
      "cell_type": "markdown",
      "source": [],
      "metadata": {
        "id": "3sfneqPsTubg"
      }
    },
    {
      "cell_type": "markdown",
      "source": [
        "# Macro with multiple arguments"
      ],
      "metadata": {
        "id": "2vKcoZSlokXg"
      }
    },
    {
      "cell_type": "code",
      "source": [
        "from sys import exit\n",
        "\n",
        "motOpCode = [\"MOV\", \"ADD\", \"SUB\", \"MUL\", \"DIV\", \"AND\", \"OR\",\n",
        "             \"LOAD\", \"STORE\", \"DCR\", \"INC\", \"JMP\", \"JNZ\", \"HALT\"]\n",
        "keywords = [\"MACRO\", \"CONST\", \"DOUBLE\", \"INT\", \"FLOAT\", \"SHORT\", \"LONG\", \"STRUCT\", \"IF\", \"ELSE\", \"FOR\", \"SWITCH\",\n",
        "            \"CASE\", \"CHAR\", \"RETURN\", \"PRINTF\", \"SCANF\", \"AX\", \"BX\", \"CX\", \"DX\", \"AH\", \"BH\", \"CH\", \"DH\", \"AL\", \"BL\",\n",
        "            \"CL\", \"DL\"]\n",
        "sourceCode = []\n",
        "macroNames = []\n",
        "macroDefinition = []\n",
        "outputSourceCode = []\n",
        "noOfInstructionSC = 0\n",
        "noOfMacroCall = 0\n",
        "noOfInstructionMC = 0\n",
        "expandedCode = 0\n",
        "totalArgs = []\n",
        "x = 0\n",
        "mapping = {}\n",
        "\n",
        "\n",
        "mc = int(input(\"Enter the number of Macro Definition code lines: \"))\n",
        "for i in range(mc):\n",
        "    instruction = input(\n",
        "        \"Enter Macro code instruction {} : \".format(i + 1)).upper()\n",
        "    macroDefinition.append(instruction)\n",
        "\n",
        "\n",
        "if macroDefinition[0] == \"MACRO\" and macroDefinition[-1] == \"MEND\":\n",
        "    temp = str(macroDefinition[1])\n",
        "    macroName, *argName = temp.split()\n",
        "    temp = argName\n",
        "    for i in range(len(temp)):\n",
        "        if ',' in temp[i]:\n",
        "            argName[i] = argName[i][0:-1]\n",
        "    if macroName not in keywords and macroName not in motOpCode:\n",
        "        macroNames.append(macroName)\n",
        "else:\n",
        "    print(\"Invalid Macro Definition.\")\n",
        "    exit(0)\n",
        "\n",
        "sc = int(input(\"Enter the number of Source code lines: \"))\n",
        "for i in range(sc):\n",
        "    instruction = input(\n",
        "        \"Enter Source code instruction {} : \".format(i + 1)).upper()\n",
        "    sourceCode.append(instruction)\n",
        "\n",
        "for i in range(sc):\n",
        "    if macroName in sourceCode[i]:\n",
        "        noOfMacroCall = noOfMacroCall + 1\n",
        "    else:\n",
        "        noOfInstructionSC = noOfInstructionSC + 1\n",
        "\n",
        "for i in range(sc):\n",
        "    if macroName in sourceCode[i]:\n",
        "        x = x + 1\n",
        "        noOfInstructionMC = 0\n",
        "        temp = str(sourceCode[i])\n",
        "        macroName, *argValue = temp.split()\n",
        "        totalArgs.append(argValue)\n",
        "        temp = argValue\n",
        "        for j in range(len(temp)):\n",
        "            if ',' in temp[j]:\n",
        "                temp[j] = temp[j].rstrip(',')\n",
        "\n",
        "        for j in range(len(argName)):\n",
        "            name, value = argName[j], argValue[j]\n",
        "            mapping[name + str(x)] = value\n",
        "\n",
        "        for j in range(2, mc - 1):\n",
        "            for k in range(len(argName)):\n",
        "                if argName[k] in macroDefinition[j]:\n",
        "                    temp = macroDefinition[j]\n",
        "                    opCode, value = temp.split()\n",
        "                    tempValue = mapping.get(value + str(x))\n",
        "                    temp = opCode + ' ' + str(tempValue)\n",
        "            outputSourceCode.append(temp)\n",
        "            noOfInstructionMC = noOfInstructionMC + 1\n",
        "    else:\n",
        "        temp = sourceCode[i]\n",
        "        outputSourceCode.append(temp)\n",
        "\n",
        "print(\"Expanded Source Code is: \")\n",
        "for i in outputSourceCode:\n",
        "    print(i)\n",
        "    expandedCode = expandedCode + 1\n",
        "\n",
        "print()\n",
        "print(\"No of instructions in input source code: {}\".format(noOfInstructionSC))\n",
        "print(\"No of macro calls: {}\".format(noOfMacroCall))\n",
        "print(\"No of instructions defined in macro call: {}\".format(noOfInstructionMC))\n",
        "for i in range(len(totalArgs)):\n",
        "    print(\"Actual argument during {} Macro call 'ABHISHEK': {}\".format(\n",
        "        i + 1, ', '.join(totalArgs[i])))\n",
        "print(\"Total number of instructions in expanded code: {}\".format(expandedCode))\n",
        "\n",
        "# Input\n",
        "# Enter the number of Macro Definition code lines: 6\n",
        "# Enter Macro code instruction 1 : MACRO\n",
        "# Enter Macro code instruction 2 : ABHISHEK &ARG1,&ARG2,&ARG3\n",
        "# Enter Macro code instruction 3 : ADD &ARG1\n",
        "# Enter Macro code instruction 4 : SUB &ARG2\n",
        "# Enter Macro code instruction 5 : OR &ARG3\n",
        "# Enter Macro code instruction 6 : MEND\n",
        "# Enter the number of Source code lines: 7\n",
        "# Enter Source code instruction 1 : MOV R\n",
        "# Enter Source code instruction 2 : ABHISHEK 30,40,50\n",
        "# Enter Source code instruction 3 : DCR R\n",
        "# Enter Source code instruction 4 : AND R\n",
        "# Enter Source code instruction 5 : ABHISHEK 33,44,55\n",
        "# Enter Source code instruction 6 : MUL 88\n",
        "# Enter Source code instruction 7 : HALT\n",
        "\n",
        "\"\"\"\n",
        "Macro: It is a single line abbreviation for the group of instructions.\n",
        "1)Macro is defined for the block of instructions at the beginning if the Assembly Language Program (ALP).\n",
        "2)Reduces the size of the ALP significantly and storage space.\n",
        "3)In source ALP code, each occurrence of that block of instructions is represented by its macro.\n",
        "4)Before the assembly process i.e. generating object code, the macro is expanded by the Macro Processor.\n",
        "5)Macro expansion is the process of replacing each macro call by its block of instructions.\n",
        "\n",
        "Need of Macros:\n",
        "Sometimes it is needed to repeat block of instructions many numbers of times in ALP.\n",
        "For example:\n",
        "a)Save or exchange set of registers.\n",
        "b)Series of arithmetic operations.\n",
        "Macro is defined for such block of instructions.\n",
        "\n",
        "Generalized format of the macro:\n",
        "MACRO\t\t; start of macro definition\n",
        "{macro name}\t; name of the macro\n",
        "------------------}\n",
        "------------------}\t; block of instructions\n",
        "------------------} \t(body/domain of the macro)\n",
        "MEND\t \t; end of macro definition\n",
        "\n",
        "\"\"\""
      ],
      "metadata": {
        "colab": {
          "base_uri": "https://localhost:8080/"
        },
        "id": "QI339U6P520F",
        "outputId": "57b8d8ad-34f4-49f4-dbf3-b63c12377afa"
      },
      "execution_count": null,
      "outputs": [
        {
          "output_type": "stream",
          "name": "stdout",
          "text": [
            "Enter the number of Macro Definition code lines: 6\n",
            "Enter Macro code instruction 1 : MACRO\n",
            "Enter Macro code instruction 2 : ABHISHEK &ARG1,&ARG2,&ARG3\n",
            "Enter Macro code instruction 3 : ADD &ARG1\n",
            "Enter Macro code instruction 4 : SUB &ARG2\n",
            "Enter Macro code instruction 5 : OR &ARG3\n",
            "Enter Macro code instruction 6 : MEND\n",
            "Enter the number of Source code lines: 7\n",
            "Enter Source code instruction 1 : MOV R\n",
            "Enter Source code instruction 2 : ABHISHEK 30,40,50\n",
            "Enter Source code instruction 3 : DCR R\n",
            "Enter Source code instruction 4 : AND R\n",
            "Enter Source code instruction 5 : ABHISHEK 33,44,55\n",
            "Enter Source code instruction 6 : MUL 88\n",
            "Enter Source code instruction 7 : HALT\n",
            "Expanded Source Code is: \n",
            "MOV R\n",
            "['30,40,50']\n",
            "['30,40,50']\n",
            "['30,40,50']\n",
            "DCR R\n",
            "AND R\n",
            "['33,44,55']\n",
            "['33,44,55']\n",
            "['33,44,55']\n",
            "MUL 88\n",
            "HALT\n",
            "\n",
            "No of instructions in input source code: 5\n",
            "No of macro calls: 2\n",
            "No of instructions defined in macro call: 3\n",
            "Actual argument during 1 Macro call 'ABHISHEK': 30,40,50\n",
            "Actual argument during 2 Macro call 'ABHISHEK': 33,44,55\n",
            "Total number of instructions in expanded code: 11\n"
          ]
        }
      ]
    }
  ],
  "metadata": {
    "colab": {
      "gpuType": "T4",
      "provenance": [],
      "include_colab_link": true
    },
    "kernelspec": {
      "display_name": "Python 3",
      "name": "python3"
    },
    "language_info": {
      "name": "python"
    }
  },
  "nbformat": 4,
  "nbformat_minor": 0
}